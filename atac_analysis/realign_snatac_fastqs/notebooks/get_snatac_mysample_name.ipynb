{
 "cells": [
  {
   "cell_type": "code",
   "execution_count": 44,
   "id": "417a4600",
   "metadata": {},
   "outputs": [],
   "source": [
    "import glob\n",
    "import re\n",
    "from collections import defaultdict\n",
    "from os.path import basename"
   ]
  },
  {
   "cell_type": "code",
   "execution_count": 2,
   "id": "3df90019",
   "metadata": {},
   "outputs": [],
   "source": [
    "fastqs_dir = \"/iblm/netapp/data1/jezhou/Telese_Rat_Amygdala/snATAC/fastq\""
   ]
  },
  {
   "cell_type": "code",
   "execution_count": 48,
   "id": "039c5ec1",
   "metadata": {},
   "outputs": [],
   "source": [
    "fastqs = glob.glob(fastqs_dir + \"/*fastq.gz\")"
   ]
  },
  {
   "cell_type": "code",
   "execution_count": 50,
   "id": "bcd3b97e",
   "metadata": {},
   "outputs": [
    {
     "data": {
      "text/plain": [
       "['/iblm/netapp/data1/jezhou/Telese_Rat_Amygdala/snATAC/fastq/FTL_452_M1071_933000320186811_1',\n",
       " '']"
      ]
     },
     "execution_count": 50,
     "metadata": {},
     "output_type": "execute_result"
    }
   ],
   "source": [
    "re.split(r'_S[0-9]+_L[0-9]+_R[0-9]_[0-9]+.fastq.gz', fastqs[0])"
   ]
  },
  {
   "cell_type": "code",
   "execution_count": 51,
   "id": "52336c35",
   "metadata": {},
   "outputs": [
    {
     "data": {
      "text/plain": [
       "'FTL_452_M1071_933000320186811'"
      ]
     },
     "execution_count": 51,
     "metadata": {},
     "output_type": "execute_result"
    }
   ],
   "source": [
    "re.search(r'FTL_[0-9]+_M[0-9]+_[0-9]+', fastqs[0]).group(0)"
   ]
  },
  {
   "cell_type": "code",
   "execution_count": 53,
   "id": "1332603b",
   "metadata": {},
   "outputs": [],
   "source": [
    "samples_dict = defaultdict(set)\n",
    "\n",
    "for f in fastqs:\n",
    "#     print(f)\n",
    "    rat = re.search(r'FTL_[0-9]+_M[0-9]+_[0-9]+', f).group(0)\n",
    "    samplename = basename(re.split(r'_S[0-9]+_L[0-9]+_R[0-9]_[0-9]+.fastq.gz', f)[0])\n",
    "    samples_dict[rat].add(samplename)"
   ]
  },
  {
   "cell_type": "code",
   "execution_count": 54,
   "id": "890b23a5",
   "metadata": {},
   "outputs": [
    {
     "data": {
      "text/plain": [
       "defaultdict(set,\n",
       "            {'FTL_452_M1071_933000320186811': {'FTL_452_M1071_933000320186811_1',\n",
       "              'FTL_452_M1071_933000320186811_2',\n",
       "              'FTL_452_M1071_933000320186811_3',\n",
       "              'FTL_452_M1071_933000320186811_4'},\n",
       "             'FTL_453_M964_933000320047166': {'FTL_453_M964_933000320047166_1',\n",
       "              'FTL_453_M964_933000320047166_2',\n",
       "              'FTL_453_M964_933000320047166_3',\n",
       "              'FTL_453_M964_933000320047166_4'},\n",
       "             'FTL_454_M1182_933000320187130': {'FTL_454_M1182_933000320187130_1',\n",
       "              'FTL_454_M1182_933000320187130_2',\n",
       "              'FTL_454_M1182_933000320187130_3',\n",
       "              'FTL_454_M1182_933000320187130_4'},\n",
       "             'FTL_455_M1085_933000320047651': {'FTL_455_M1085_933000320047651_1',\n",
       "              'FTL_455_M1085_933000320047651_2',\n",
       "              'FTL_455_M1085_933000320047651_3',\n",
       "              'FTL_455_M1085_933000320047651_4'},\n",
       "             'FTL_456_M985_933000320047161': {'FTL_456_M985_933000320047161_1',\n",
       "              'FTL_456_M985_933000320047161_2',\n",
       "              'FTL_456_M985_933000320047161_3',\n",
       "              'FTL_456_M985_933000320047161_4'},\n",
       "             'FTL_457_M1172_933000320187092': {'FTL_457_M1172_933000320187092_1',\n",
       "              'FTL_457_M1172_933000320187092_2',\n",
       "              'FTL_457_M1172_933000320187092_3',\n",
       "              'FTL_457_M1172_933000320187092_4'},\n",
       "             'FTL_460_M975_933000320047019': {'FTL_460_M975_933000320047019'},\n",
       "             'FTL_461_M768_933000320046611': {'FTL_461_M768_933000320046611'},\n",
       "             'FTL_462_M779_933000320045785': {'FTL_462_M779_933000320045785'},\n",
       "             'FTL_463_M757_933000320046135': {'FTL_463_M757_933000320046135'},\n",
       "             'FTL_464_M986_933000320047174': {'FTL_464_M986_933000320047174'}})"
      ]
     },
     "execution_count": 54,
     "metadata": {},
     "output_type": "execute_result"
    }
   ],
   "source": [
    "samples_dict"
   ]
  },
  {
   "cell_type": "code",
   "execution_count": 56,
   "id": "25406b5f",
   "metadata": {},
   "outputs": [],
   "source": [
    "with open(\"../sample_names.txt\", \"w\") as fh:\n",
    "    for k,v in samples_dict.items():\n",
    "        sample_names = ','.join(v)\n",
    "        fh.write(k + \"\\t\" + sample_names + \"\\n\")\n",
    "    "
   ]
  }
 ],
 "metadata": {
  "kernelspec": {
   "display_name": "Python [conda env:r4]",
   "language": "python",
   "name": "conda-env-r4-py"
  },
  "language_info": {
   "codemirror_mode": {
    "name": "ipython",
    "version": 3
   },
   "file_extension": ".py",
   "mimetype": "text/x-python",
   "name": "python",
   "nbconvert_exporter": "python",
   "pygments_lexer": "ipython3",
   "version": "3.6.10"
  }
 },
 "nbformat": 4,
 "nbformat_minor": 5
}
